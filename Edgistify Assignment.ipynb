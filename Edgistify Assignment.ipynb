{
 "cells": [
  {
   "cell_type": "markdown",
   "metadata": {},
   "source": [
    "### Q1 SOLUTION"
   ]
  },
  {
   "cell_type": "code",
   "execution_count": 1,
   "metadata": {
    "scrolled": true
   },
   "outputs": [
    {
     "name": "stdout",
     "output_type": "stream",
     "text": [
      "dog01.png\n",
      "dog005.jpg\n",
      "dog008.jpg\n",
      "dog9.jpg\n",
      "grandson_2018_01_01.png\n",
      "grandson_2018_02_5.png\n",
      "grandson_2018_5_23.png\n",
      "grandson_2019_08_23.jpg\n",
      "mallika2.jpg\n",
      "mallika05.jpg\n",
      "mallika_1.jpg\n",
      "mallika_6.jpg\n",
      "mallika_11.jpg\n"
     ]
    }
   ],
   "source": [
    "import re \n",
    "def sort_by_filename( unsortdata ): \n",
    "    convert = lambda text: int(text) if text.isdigit() else text \n",
    "    alphanum = lambda key: [ convert(c) for c in re.split('([0-9]+)', key) ] \n",
    "\n",
    "    return sorted(sorted(unsortdata, key = lambda x: re.sub('[a-zA-Z0-9]*$', '', x)), key=alphanum)\n",
    "\n",
    "unsortdata = set(['mallika_1.jpg', 'dog005.jpg', 'grandson_2018_01_01.png', 'dog008.jpg', 'mallika_6.jpg', \n",
    "            'grandson_2018_5_23.png', 'dog01.png', 'mallika_11.jpg', 'mallika2.jpg', 'grandson_2018_02_5.png',\n",
    "            'grandson_2019_08_23.jpg', 'dog9.jpg', 'mallika05.jpg'  ])\n",
    "for x in sort_by_filename(unsortdata):\n",
    "    print(x)"
   ]
  },
  {
   "cell_type": "markdown",
   "metadata": {},
   "source": [
    "  "
   ]
  },
  {
   "cell_type": "markdown",
   "metadata": {},
   "source": [
    "### Q3 SOLUTION"
   ]
  },
  {
   "cell_type": "code",
   "execution_count": 2,
   "metadata": {},
   "outputs": [
    {
     "name": "stdout",
     "output_type": "stream",
     "text": [
      "Tumkur Road\n",
      "\n",
      "AVAILABLE.\n",
      "INDUSTRIAL/\n",
      "Warehouse.\n",
      "Nelamangala\n",
      "Dobespet. 1 to 100\n",
      "acres, 1000 to\n",
      "1,00,000 saft. NAIK:\n",
      "9141326819\n"
     ]
    }
   ],
   "source": [
    "from PIL import Image\n",
    "import pytesseract, re\n",
    "f = r\"C:\\Users\\91836\\Desktop\\Testing.jpg\"\n",
    "t = pytesseract.image_to_string(Image.open(f))\n",
    "location = [x.start() for x in re.finditer('Tumkur', t,re.IGNORECASE)]\n",
    "for y in location:\n",
    "    print(t[y:min(y+124,len(t))])"
   ]
  },
  {
   "cell_type": "markdown",
   "metadata": {},
   "source": [
    "\n",
    "\n",
    "\n"
   ]
  },
  {
   "cell_type": "markdown",
   "metadata": {},
   "source": [
    "### Q2 SOLUTION"
   ]
  },
  {
   "cell_type": "code",
   "execution_count": 3,
   "metadata": {},
   "outputs": [],
   "source": [
    "import numpy as np\n",
    "import pandas as pd\n",
    "import matplotlib.pyplot as plt\n",
    "import seaborn as sns\n",
    "\n",
    "from sklearn.feature_extraction.text import CountVectorizer\n",
    "from scipy.sparse import hstack\n",
    "from nltk.corpus import stopwords\n",
    "import re,os, random\n",
    "from sklearn.metrics import f1_score\n",
    "\n",
    "from sklearn.multiclass import OneVsRestClassifier\n",
    "from sklearn.model_selection import RandomizedSearchCV, GridSearchCV\n",
    "from sklearn.naive_bayes import MultinomialNB\n",
    "from sklearn.linear_model import LogisticRegression\n",
    "from sklearn.svm import SVC\n",
    "from sklearn.ensemble import RandomForestClassifier\n"
   ]
  },
  {
   "cell_type": "markdown",
   "metadata": {},
   "source": [
    "#### Loading the dataset"
   ]
  },
  {
   "cell_type": "code",
   "execution_count": 4,
   "metadata": {},
   "outputs": [
    {
     "name": "stdout",
     "output_type": "stream",
     "text": [
      "(20000, 12) \n",
      "\n",
      "Null in the dataset:\n",
      " CORPORATE_IDENTIFICATION_NUMBER      0\n",
      "COMPANY_NAME                         0\n",
      "COMPANY_STATUS                       0\n",
      "COMPANY_CLASS                        0\n",
      "COMPANY_CATEGORY                     0\n",
      "AUTHORIZED_CAPITAL                   0\n",
      "PAIDUP_CAPITAL                     154\n",
      "DATE_OF_REGISTRATION                51\n",
      "REGISTRAR_OF_COMPANIES               0\n",
      "PRINCIPAL_BUSINESS_ACTIVITY        215\n",
      "REGISTERED_OFFICE_ADDRESS            1\n",
      "SUB_CATEGORY                         2\n",
      "dtype: int64\n",
      "\n",
      "Total Null value in the dataset:  423\n"
     ]
    },
    {
     "data": {
      "text/html": [
       "<div>\n",
       "<style scoped>\n",
       "    .dataframe tbody tr th:only-of-type {\n",
       "        vertical-align: middle;\n",
       "    }\n",
       "\n",
       "    .dataframe tbody tr th {\n",
       "        vertical-align: top;\n",
       "    }\n",
       "\n",
       "    .dataframe thead th {\n",
       "        text-align: right;\n",
       "    }\n",
       "</style>\n",
       "<table border=\"1\" class=\"dataframe\">\n",
       "  <thead>\n",
       "    <tr style=\"text-align: right;\">\n",
       "      <th></th>\n",
       "      <th>CORPORATE_IDENTIFICATION_NUMBER</th>\n",
       "      <th>COMPANY_NAME</th>\n",
       "      <th>COMPANY_STATUS</th>\n",
       "      <th>COMPANY_CLASS</th>\n",
       "      <th>COMPANY_CATEGORY</th>\n",
       "      <th>AUTHORIZED_CAPITAL</th>\n",
       "      <th>PAIDUP_CAPITAL</th>\n",
       "      <th>DATE_OF_REGISTRATION</th>\n",
       "      <th>REGISTRAR_OF_COMPANIES</th>\n",
       "      <th>PRINCIPAL_BUSINESS_ACTIVITY</th>\n",
       "      <th>REGISTERED_OFFICE_ADDRESS</th>\n",
       "      <th>SUB_CATEGORY</th>\n",
       "    </tr>\n",
       "  </thead>\n",
       "  <tbody>\n",
       "    <tr>\n",
       "      <td>0</td>\n",
       "      <td>U55101AN2007PTC000082</td>\n",
       "      <td>GOLDEN REST ROOM PRIVATE LIMITED</td>\n",
       "      <td>ACTIVE</td>\n",
       "      <td>Private</td>\n",
       "      <td>Company Limited by Shares</td>\n",
       "      <td>1000000</td>\n",
       "      <td>100000</td>\n",
       "      <td>26-03-2007</td>\n",
       "      <td>RoC-Chennai</td>\n",
       "      <td>Trading</td>\n",
       "      <td>Golden Rest room Prem Nagar Port Blair Andaman...</td>\n",
       "      <td>Indian Non-Government Company</td>\n",
       "    </tr>\n",
       "    <tr>\n",
       "      <td>1</td>\n",
       "      <td>U01111AN2007PTC000087</td>\n",
       "      <td>ANDAMAN AGRO PRIVATE LIMITED</td>\n",
       "      <td>ACTIVE</td>\n",
       "      <td>Private</td>\n",
       "      <td>Company Limited by Shares</td>\n",
       "      <td>2000000</td>\n",
       "      <td>100000</td>\n",
       "      <td>08/06/07 0:00</td>\n",
       "      <td>RoC-Chennai</td>\n",
       "      <td>Agriculture and Allied Activities</td>\n",
       "      <td>Sadha Bhavan Gurudwara Lane Port Blair Andaman...</td>\n",
       "      <td>Indian Non-Government Company</td>\n",
       "    </tr>\n",
       "    <tr>\n",
       "      <td>2</td>\n",
       "      <td>U45201AN2007PTC000086</td>\n",
       "      <td>ANDAMAN NIRMAN PRIVATE LIMITED</td>\n",
       "      <td>ACTIVE</td>\n",
       "      <td>Private</td>\n",
       "      <td>Company Limited by Shares</td>\n",
       "      <td>2000000</td>\n",
       "      <td>2000000</td>\n",
       "      <td>07/11/07 0:00</td>\n",
       "      <td>RoC-Chennai</td>\n",
       "      <td>Construction</td>\n",
       "      <td>Junglighat Port Blair Andaman and Nicobar Isla...</td>\n",
       "      <td>Indian Non-Government Company</td>\n",
       "    </tr>\n",
       "    <tr>\n",
       "      <td>3</td>\n",
       "      <td>U62200AN2007PTC000227</td>\n",
       "      <td>ABLE AVIATION (INDIA) PRIVATE LIMITED</td>\n",
       "      <td>ACTIVE</td>\n",
       "      <td>Private</td>\n",
       "      <td>Company Limited by Shares</td>\n",
       "      <td>20000000</td>\n",
       "      <td>10000000</td>\n",
       "      <td>20-09-2007</td>\n",
       "      <td>RoC-Chennai</td>\n",
       "      <td>Transport, storage and Communications</td>\n",
       "      <td>HOUSE NO.M.B-210, PART-II, NEAR INCOME TAX OFF...</td>\n",
       "      <td>Indian Non-Government Company</td>\n",
       "    </tr>\n",
       "    <tr>\n",
       "      <td>4</td>\n",
       "      <td>U52190AN1996PTC000053</td>\n",
       "      <td>IMPERIAL AGENCIES PRIVATE LIMITED</td>\n",
       "      <td>ACTIVE</td>\n",
       "      <td>Private</td>\n",
       "      <td>Company Limited by Shares</td>\n",
       "      <td>2500000</td>\n",
       "      <td>2500000</td>\n",
       "      <td>07/10/96 0:00</td>\n",
       "      <td>RoC-Chennai</td>\n",
       "      <td>Trading</td>\n",
       "      <td>2 Middle Point Port Blair Andaman and Nicobar ...</td>\n",
       "      <td>Indian Non-Government Company</td>\n",
       "    </tr>\n",
       "  </tbody>\n",
       "</table>\n",
       "</div>"
      ],
      "text/plain": [
       "  CORPORATE_IDENTIFICATION_NUMBER                           COMPANY_NAME  \\\n",
       "0           U55101AN2007PTC000082       GOLDEN REST ROOM PRIVATE LIMITED   \n",
       "1           U01111AN2007PTC000087           ANDAMAN AGRO PRIVATE LIMITED   \n",
       "2           U45201AN2007PTC000086         ANDAMAN NIRMAN PRIVATE LIMITED   \n",
       "3           U62200AN2007PTC000227  ABLE AVIATION (INDIA) PRIVATE LIMITED   \n",
       "4           U52190AN1996PTC000053      IMPERIAL AGENCIES PRIVATE LIMITED   \n",
       "\n",
       "  COMPANY_STATUS COMPANY_CLASS           COMPANY_CATEGORY AUTHORIZED_CAPITAL  \\\n",
       "0         ACTIVE       Private  Company Limited by Shares            1000000   \n",
       "1         ACTIVE       Private  Company Limited by Shares            2000000   \n",
       "2         ACTIVE       Private  Company Limited by Shares            2000000   \n",
       "3         ACTIVE       Private  Company Limited by Shares           20000000   \n",
       "4         ACTIVE       Private  Company Limited by Shares            2500000   \n",
       "\n",
       "  PAIDUP_CAPITAL DATE_OF_REGISTRATION REGISTRAR_OF_COMPANIES  \\\n",
       "0         100000           26-03-2007            RoC-Chennai   \n",
       "1         100000        08/06/07 0:00            RoC-Chennai   \n",
       "2        2000000        07/11/07 0:00            RoC-Chennai   \n",
       "3       10000000           20-09-2007            RoC-Chennai   \n",
       "4        2500000        07/10/96 0:00            RoC-Chennai   \n",
       "\n",
       "             PRINCIPAL_BUSINESS_ACTIVITY  \\\n",
       "0                                Trading   \n",
       "1      Agriculture and Allied Activities   \n",
       "2                           Construction   \n",
       "3  Transport, storage and Communications   \n",
       "4                                Trading   \n",
       "\n",
       "                           REGISTERED_OFFICE_ADDRESS  \\\n",
       "0  Golden Rest room Prem Nagar Port Blair Andaman...   \n",
       "1  Sadha Bhavan Gurudwara Lane Port Blair Andaman...   \n",
       "2  Junglighat Port Blair Andaman and Nicobar Isla...   \n",
       "3  HOUSE NO.M.B-210, PART-II, NEAR INCOME TAX OFF...   \n",
       "4  2 Middle Point Port Blair Andaman and Nicobar ...   \n",
       "\n",
       "                    SUB_CATEGORY  \n",
       "0  Indian Non-Government Company  \n",
       "1  Indian Non-Government Company  \n",
       "2  Indian Non-Government Company  \n",
       "3  Indian Non-Government Company  \n",
       "4  Indian Non-Government Company  "
      ]
     },
     "execution_count": 4,
     "metadata": {},
     "output_type": "execute_result"
    }
   ],
   "source": [
    "df = pd.read_csv(\"https://raw.githubusercontent.com/nishant0819/CorporateDataset/master/Q2_data_set%20-%20Q2_data_set.csv\")\n",
    "print(df.shape,\"\\n\")\n",
    "print(\"Null in the dataset:\\n\",df.isnull().sum(axis=0))\n",
    "print(\"\\nTotal Null value in the dataset: \", df.isnull().sum(axis=0).sum())\n",
    "df.head()"
   ]
  },
  {
   "cell_type": "markdown",
   "metadata": {},
   "source": [
    "But in some columns there are no data and it is represented by -. Let's find those columns and number of such rows in that column."
   ]
  },
  {
   "cell_type": "code",
   "execution_count": 5,
   "metadata": {},
   "outputs": [
    {
     "name": "stdout",
     "output_type": "stream",
     "text": [
      "Column Name                           `-` count       Null/NaN/None Count            Total\n",
      "\n",
      "CORPORATE_IDENTIFICATION_NUMBER          0                     0                       0\n",
      "COMPANY_NAME                             0                     0                       0\n",
      "COMPANY_STATUS                           0                     0                       0\n",
      "COMPANY_CLASS                            0                     0                       0\n",
      "COMPANY_CATEGORY                         0                     0                       0\n",
      "AUTHORIZED_CAPITAL                      75                     0                      75\n",
      "PAIDUP_CAPITAL                        3138                   154                    3292\n",
      "DATE_OF_REGISTRATION                     0                    51                      51\n",
      "REGISTRAR_OF_COMPANIES                   0                     0                       0\n",
      "PRINCIPAL_BUSINESS_ACTIVITY              0                   215                     215\n",
      "REGISTERED_OFFICE_ADDRESS                0                     1                       1\n",
      "SUB_CATEGORY                             0                     2                       2\n",
      "\n",
      "Total numeber of unknown values in the dataset are:  3636\n"
     ]
    }
   ],
   "source": [
    "def unknown_count(df):\n",
    "    print(\"Column Name\", \" \"*(40-15), \"`-` count\", \" \"*(5), \"Null/NaN/None Count\", \" \"*10, \"Total\")\n",
    "    print()\n",
    "    Total = 0\n",
    "    for col in df.columns:\n",
    "        cnt = 0\n",
    "        for val in df[col].values:\n",
    "            if val==\"-\":\n",
    "                cnt+=1\n",
    "        null_cnt = df[col].isnull().sum()\n",
    "        total = cnt+null_cnt\n",
    "        print(col, \" \"*(40-len(col)-len(str(cnt))), cnt, \n",
    "              \" \"*(20-len(str(null_cnt))), null_cnt,\n",
    "              \" \"*(22-len(str(total))), total)\n",
    "        Total += total\n",
    "    print(\"\\nTotal numeber of unknown values in the dataset are: \",Total)\n",
    "unknown_count(df)"
   ]
  },
  {
   "cell_type": "markdown",
   "metadata": {},
   "source": [
    "Total numeber of unknown values in the dataset are:  3636\n",
    "There are 3636 Unknow values in the dataset.\n",
    "So lets view dataset and remove unwanted columns."
   ]
  },
  {
   "cell_type": "markdown",
   "metadata": {},
   "source": [
    "#### Drop Unwanted Columns and rows"
   ]
  },
  {
   "cell_type": "markdown",
   "metadata": {},
   "source": [
    "Let's drop the CORPORATE_IDENTIFICATION_NUMBER, REGISTERED_OFFICE_ADDRESS, PAIDUP_CAPITAL, and AUTHORIZED_CAPITAL column because it is NOT useful column."
   ]
  },
  {
   "cell_type": "code",
   "execution_count": 6,
   "metadata": {},
   "outputs": [
    {
     "name": "stdout",
     "output_type": "stream",
     "text": [
      "Column Name                           `-` count       Null/NaN/None Count            Total\n",
      "\n",
      "COMPANY_NAME                             0                     0                       0\n",
      "COMPANY_STATUS                           0                     0                       0\n",
      "COMPANY_CLASS                            0                     0                       0\n",
      "COMPANY_CATEGORY                         0                     0                       0\n",
      "DATE_OF_REGISTRATION                     0                    51                      51\n",
      "REGISTRAR_OF_COMPANIES                   0                     0                       0\n",
      "PRINCIPAL_BUSINESS_ACTIVITY              0                   215                     215\n",
      "SUB_CATEGORY                             0                     0                       0\n",
      "\n",
      "Total numeber of unknown values in the dataset are:  266\n"
     ]
    }
   ],
   "source": [
    "df.drop([\"CORPORATE_IDENTIFICATION_NUMBER\", \"REGISTERED_OFFICE_ADDRESS\", \"PAIDUP_CAPITAL\", \n",
    "         \"AUTHORIZED_CAPITAL\"], axis = 1, inplace=True)\n",
    "df = df[~df[\"SUB_CATEGORY\"].isnull()]\n",
    "unknown_count(df)"
   ]
  },
  {
   "cell_type": "markdown",
   "metadata": {},
   "source": [
    "Our target column for this task is PRINCIPAL_BUSINESS_ACTIVITY and there 215 such datapoints where there is no value. So make such datapoints as future datapoints.\n",
    "And use remaining dataset for building and validation of the model."
   ]
  },
  {
   "cell_type": "code",
   "execution_count": 7,
   "metadata": {},
   "outputs": [
    {
     "name": "stdout",
     "output_type": "stream",
     "text": [
      "Column Name                           `-` count       Null/NaN/None Count            Total\n",
      "\n",
      "COMPANY_NAME                             0                     0                       0\n",
      "COMPANY_STATUS                           0                     0                       0\n",
      "COMPANY_CLASS                            0                     0                       0\n",
      "COMPANY_CATEGORY                         0                     0                       0\n",
      "DATE_OF_REGISTRATION                     0                     1                       1\n",
      "REGISTRAR_OF_COMPANIES                   0                     0                       0\n",
      "PRINCIPAL_BUSINESS_ACTIVITY              0                     0                       0\n",
      "SUB_CATEGORY                             0                     0                       0\n",
      "\n",
      "Total numeber of unknown values in the dataset are:  1\n"
     ]
    }
   ],
   "source": [
    "future_df = df[df[\"PRINCIPAL_BUSINESS_ACTIVITY\"].isnull()]\n",
    "future_df.reset_index(drop=True, inplace=True)\n",
    "\n",
    "new_df = df[~df[\"PRINCIPAL_BUSINESS_ACTIVITY\"].isnull()]\n",
    "new_df.reset_index(drop=True, inplace=True)\n",
    "\n",
    "unknown_count(new_df)\n"
   ]
  },
  {
   "cell_type": "markdown",
   "metadata": {},
   "source": [
    "Drop the row where this condition matches."
   ]
  },
  {
   "cell_type": "code",
   "execution_count": 8,
   "metadata": {},
   "outputs": [
    {
     "name": "stdout",
     "output_type": "stream",
     "text": [
      "Column Name                           `-` count       Null/NaN/None Count            Total\n",
      "\n",
      "COMPANY_NAME                             0                     0                       0\n",
      "COMPANY_STATUS                           0                     0                       0\n",
      "COMPANY_CLASS                            0                     0                       0\n",
      "COMPANY_CATEGORY                         0                     0                       0\n",
      "DATE_OF_REGISTRATION                     0                     0                       0\n",
      "REGISTRAR_OF_COMPANIES                   0                     0                       0\n",
      "PRINCIPAL_BUSINESS_ACTIVITY              0                     0                       0\n",
      "SUB_CATEGORY                             0                     0                       0\n",
      "\n",
      "Total numeber of unknown values in the dataset are:  0\n",
      "Now, Shape of data:  (19779, 8)\n"
     ]
    },
    {
     "data": {
      "text/html": [
       "<div>\n",
       "<style scoped>\n",
       "    .dataframe tbody tr th:only-of-type {\n",
       "        vertical-align: middle;\n",
       "    }\n",
       "\n",
       "    .dataframe tbody tr th {\n",
       "        vertical-align: top;\n",
       "    }\n",
       "\n",
       "    .dataframe thead th {\n",
       "        text-align: right;\n",
       "    }\n",
       "</style>\n",
       "<table border=\"1\" class=\"dataframe\">\n",
       "  <thead>\n",
       "    <tr style=\"text-align: right;\">\n",
       "      <th></th>\n",
       "      <th>COMPANY_NAME</th>\n",
       "      <th>COMPANY_STATUS</th>\n",
       "      <th>COMPANY_CLASS</th>\n",
       "      <th>COMPANY_CATEGORY</th>\n",
       "      <th>DATE_OF_REGISTRATION</th>\n",
       "      <th>REGISTRAR_OF_COMPANIES</th>\n",
       "      <th>PRINCIPAL_BUSINESS_ACTIVITY</th>\n",
       "      <th>SUB_CATEGORY</th>\n",
       "    </tr>\n",
       "  </thead>\n",
       "  <tbody>\n",
       "    <tr>\n",
       "      <td>0</td>\n",
       "      <td>GOLDEN REST ROOM PRIVATE LIMITED</td>\n",
       "      <td>ACTIVE</td>\n",
       "      <td>Private</td>\n",
       "      <td>Company Limited by Shares</td>\n",
       "      <td>26-03-2007</td>\n",
       "      <td>RoC-Chennai</td>\n",
       "      <td>Trading</td>\n",
       "      <td>Indian Non-Government Company</td>\n",
       "    </tr>\n",
       "    <tr>\n",
       "      <td>1</td>\n",
       "      <td>ANDAMAN AGRO PRIVATE LIMITED</td>\n",
       "      <td>ACTIVE</td>\n",
       "      <td>Private</td>\n",
       "      <td>Company Limited by Shares</td>\n",
       "      <td>08/06/07 0:00</td>\n",
       "      <td>RoC-Chennai</td>\n",
       "      <td>Agriculture and Allied Activities</td>\n",
       "      <td>Indian Non-Government Company</td>\n",
       "    </tr>\n",
       "    <tr>\n",
       "      <td>2</td>\n",
       "      <td>ANDAMAN NIRMAN PRIVATE LIMITED</td>\n",
       "      <td>ACTIVE</td>\n",
       "      <td>Private</td>\n",
       "      <td>Company Limited by Shares</td>\n",
       "      <td>07/11/07 0:00</td>\n",
       "      <td>RoC-Chennai</td>\n",
       "      <td>Construction</td>\n",
       "      <td>Indian Non-Government Company</td>\n",
       "    </tr>\n",
       "    <tr>\n",
       "      <td>3</td>\n",
       "      <td>ABLE AVIATION (INDIA) PRIVATE LIMITED</td>\n",
       "      <td>ACTIVE</td>\n",
       "      <td>Private</td>\n",
       "      <td>Company Limited by Shares</td>\n",
       "      <td>20-09-2007</td>\n",
       "      <td>RoC-Chennai</td>\n",
       "      <td>Transport, storage and Communications</td>\n",
       "      <td>Indian Non-Government Company</td>\n",
       "    </tr>\n",
       "    <tr>\n",
       "      <td>4</td>\n",
       "      <td>IMPERIAL AGENCIES PRIVATE LIMITED</td>\n",
       "      <td>ACTIVE</td>\n",
       "      <td>Private</td>\n",
       "      <td>Company Limited by Shares</td>\n",
       "      <td>07/10/96 0:00</td>\n",
       "      <td>RoC-Chennai</td>\n",
       "      <td>Trading</td>\n",
       "      <td>Indian Non-Government Company</td>\n",
       "    </tr>\n",
       "  </tbody>\n",
       "</table>\n",
       "</div>"
      ],
      "text/plain": [
       "                            COMPANY_NAME COMPANY_STATUS COMPANY_CLASS  \\\n",
       "0       GOLDEN REST ROOM PRIVATE LIMITED         ACTIVE       Private   \n",
       "1           ANDAMAN AGRO PRIVATE LIMITED         ACTIVE       Private   \n",
       "2         ANDAMAN NIRMAN PRIVATE LIMITED         ACTIVE       Private   \n",
       "3  ABLE AVIATION (INDIA) PRIVATE LIMITED         ACTIVE       Private   \n",
       "4      IMPERIAL AGENCIES PRIVATE LIMITED         ACTIVE       Private   \n",
       "\n",
       "            COMPANY_CATEGORY DATE_OF_REGISTRATION REGISTRAR_OF_COMPANIES  \\\n",
       "0  Company Limited by Shares           26-03-2007            RoC-Chennai   \n",
       "1  Company Limited by Shares        08/06/07 0:00            RoC-Chennai   \n",
       "2  Company Limited by Shares        07/11/07 0:00            RoC-Chennai   \n",
       "3  Company Limited by Shares           20-09-2007            RoC-Chennai   \n",
       "4  Company Limited by Shares        07/10/96 0:00            RoC-Chennai   \n",
       "\n",
       "             PRINCIPAL_BUSINESS_ACTIVITY                   SUB_CATEGORY  \n",
       "0                                Trading  Indian Non-Government Company  \n",
       "1      Agriculture and Allied Activities  Indian Non-Government Company  \n",
       "2                           Construction  Indian Non-Government Company  \n",
       "3  Transport, storage and Communications  Indian Non-Government Company  \n",
       "4                                Trading  Indian Non-Government Company  "
      ]
     },
     "execution_count": 8,
     "metadata": {},
     "output_type": "execute_result"
    }
   ],
   "source": [
    "new_df = new_df[~new_df[\"DATE_OF_REGISTRATION\"].isnull()]\n",
    "new_df = new_df[~(new_df[\"DATE_OF_REGISTRATION\"] == \"#\"*255)]\n",
    "\n",
    "new_df.reset_index(drop=True, inplace=True)\n",
    "unknown_count(new_df)\n",
    "\n",
    "print(\"Now, Shape of data: \", new_df.shape)\n",
    "new_df.head()"
   ]
  },
  {
   "cell_type": "markdown",
   "metadata": {},
   "source": [
    "### Tags (i.e. PRINCIPAL_BUSINESS_ACTIVITY) Analysis"
   ]
  },
  {
   "cell_type": "markdown",
   "metadata": {},
   "source": [
    "* Let's do some processing on column PRINCIPAL_BUSINESS_ACTIVITY.\n",
    "* e.g. 1. Convert Agriculture and Allied Activities into lowercase and then join them by _. So final result will be agriculture_and_allied_activities.\n",
    "* Transport, storage and Communications into transport storage_and_communications."
   ]
  },
  {
   "cell_type": "code",
   "execution_count": 9,
   "metadata": {},
   "outputs": [
    {
     "data": {
      "text/html": [
       "<div>\n",
       "<style scoped>\n",
       "    .dataframe tbody tr th:only-of-type {\n",
       "        vertical-align: middle;\n",
       "    }\n",
       "\n",
       "    .dataframe tbody tr th {\n",
       "        vertical-align: top;\n",
       "    }\n",
       "\n",
       "    .dataframe thead th {\n",
       "        text-align: right;\n",
       "    }\n",
       "</style>\n",
       "<table border=\"1\" class=\"dataframe\">\n",
       "  <thead>\n",
       "    <tr style=\"text-align: right;\">\n",
       "      <th></th>\n",
       "      <th>COMPANY_NAME</th>\n",
       "      <th>COMPANY_STATUS</th>\n",
       "      <th>COMPANY_CLASS</th>\n",
       "      <th>COMPANY_CATEGORY</th>\n",
       "      <th>DATE_OF_REGISTRATION</th>\n",
       "      <th>REGISTRAR_OF_COMPANIES</th>\n",
       "      <th>PRINCIPAL_BUSINESS_ACTIVITY</th>\n",
       "      <th>SUB_CATEGORY</th>\n",
       "    </tr>\n",
       "  </thead>\n",
       "  <tbody>\n",
       "    <tr>\n",
       "      <td>0</td>\n",
       "      <td>GOLDEN REST ROOM PRIVATE LIMITED</td>\n",
       "      <td>ACTIVE</td>\n",
       "      <td>Private</td>\n",
       "      <td>Company Limited by Shares</td>\n",
       "      <td>26-03-2007</td>\n",
       "      <td>RoC-Chennai</td>\n",
       "      <td>trading</td>\n",
       "      <td>Indian Non-Government Company</td>\n",
       "    </tr>\n",
       "    <tr>\n",
       "      <td>1</td>\n",
       "      <td>ANDAMAN AGRO PRIVATE LIMITED</td>\n",
       "      <td>ACTIVE</td>\n",
       "      <td>Private</td>\n",
       "      <td>Company Limited by Shares</td>\n",
       "      <td>08/06/07 0:00</td>\n",
       "      <td>RoC-Chennai</td>\n",
       "      <td>agriculture_and_allied_activities</td>\n",
       "      <td>Indian Non-Government Company</td>\n",
       "    </tr>\n",
       "    <tr>\n",
       "      <td>2</td>\n",
       "      <td>ANDAMAN NIRMAN PRIVATE LIMITED</td>\n",
       "      <td>ACTIVE</td>\n",
       "      <td>Private</td>\n",
       "      <td>Company Limited by Shares</td>\n",
       "      <td>07/11/07 0:00</td>\n",
       "      <td>RoC-Chennai</td>\n",
       "      <td>construction</td>\n",
       "      <td>Indian Non-Government Company</td>\n",
       "    </tr>\n",
       "    <tr>\n",
       "      <td>3</td>\n",
       "      <td>ABLE AVIATION (INDIA) PRIVATE LIMITED</td>\n",
       "      <td>ACTIVE</td>\n",
       "      <td>Private</td>\n",
       "      <td>Company Limited by Shares</td>\n",
       "      <td>20-09-2007</td>\n",
       "      <td>RoC-Chennai</td>\n",
       "      <td>transport storage_and_communications</td>\n",
       "      <td>Indian Non-Government Company</td>\n",
       "    </tr>\n",
       "    <tr>\n",
       "      <td>4</td>\n",
       "      <td>IMPERIAL AGENCIES PRIVATE LIMITED</td>\n",
       "      <td>ACTIVE</td>\n",
       "      <td>Private</td>\n",
       "      <td>Company Limited by Shares</td>\n",
       "      <td>07/10/96 0:00</td>\n",
       "      <td>RoC-Chennai</td>\n",
       "      <td>trading</td>\n",
       "      <td>Indian Non-Government Company</td>\n",
       "    </tr>\n",
       "  </tbody>\n",
       "</table>\n",
       "</div>"
      ],
      "text/plain": [
       "                            COMPANY_NAME COMPANY_STATUS COMPANY_CLASS  \\\n",
       "0       GOLDEN REST ROOM PRIVATE LIMITED         ACTIVE       Private   \n",
       "1           ANDAMAN AGRO PRIVATE LIMITED         ACTIVE       Private   \n",
       "2         ANDAMAN NIRMAN PRIVATE LIMITED         ACTIVE       Private   \n",
       "3  ABLE AVIATION (INDIA) PRIVATE LIMITED         ACTIVE       Private   \n",
       "4      IMPERIAL AGENCIES PRIVATE LIMITED         ACTIVE       Private   \n",
       "\n",
       "            COMPANY_CATEGORY DATE_OF_REGISTRATION REGISTRAR_OF_COMPANIES  \\\n",
       "0  Company Limited by Shares           26-03-2007            RoC-Chennai   \n",
       "1  Company Limited by Shares        08/06/07 0:00            RoC-Chennai   \n",
       "2  Company Limited by Shares        07/11/07 0:00            RoC-Chennai   \n",
       "3  Company Limited by Shares           20-09-2007            RoC-Chennai   \n",
       "4  Company Limited by Shares        07/10/96 0:00            RoC-Chennai   \n",
       "\n",
       "            PRINCIPAL_BUSINESS_ACTIVITY                   SUB_CATEGORY  \n",
       "0                               trading  Indian Non-Government Company  \n",
       "1     agriculture_and_allied_activities  Indian Non-Government Company  \n",
       "2                          construction  Indian Non-Government Company  \n",
       "3  transport storage_and_communications  Indian Non-Government Company  \n",
       "4                               trading  Indian Non-Government Company  "
      ]
     },
     "execution_count": 9,
     "metadata": {},
     "output_type": "execute_result"
    }
   ],
   "source": [
    "def process_tags(tags):\n",
    "    # replace every special char (except `,` and `&`) with ''\n",
    "    tags = re.sub('[^a-zA-Z0-9,&\\n]', ' ', tags)\n",
    "    tags = tags.lower().split(\",\")\n",
    "    tags = [\"_\".join(i.split()) for i in tags]\n",
    "    return \" \".join(tags)\n",
    "new_df.loc[:,\"PRINCIPAL_BUSINESS_ACTIVITY\"] = new_df[\"PRINCIPAL_BUSINESS_ACTIVITY\"].apply(process_tags)\n",
    "\n",
    "new_df.head()"
   ]
  },
  {
   "cell_type": "markdown",
   "metadata": {},
   "source": [
    "#### Most Frequent Tags"
   ]
  },
  {
   "cell_type": "code",
   "execution_count": 10,
   "metadata": {},
   "outputs": [],
   "source": [
    "from sklearn.feature_extraction.text import CountVectorizer\n",
    "vect = CountVectorizer(tokenizer = lambda x: x.split(\" \"), binary='true')\n",
    "vect.fit(new_df[\"PRINCIPAL_BUSINESS_ACTIVITY\"])\n",
    "\n",
    "my_dict = {key:0 for key in vect.vocabulary_.keys()}\n",
    "\n",
    "for row in new_df.iterrows():\n",
    "    tags = row[1][\"PRINCIPAL_BUSINESS_ACTIVITY\"]\n",
    "    for tag in tags.split(\" \"):\n",
    "        if my_dict.get(tag) is not None:\n",
    "            my_dict[tag] = my_dict.get(tag)+ 1"
   ]
  },
  {
   "cell_type": "markdown",
   "metadata": {},
   "source": [
    "#### The top 15 tags"
   ]
  },
  {
   "cell_type": "code",
   "execution_count": 11,
   "metadata": {},
   "outputs": [
    {
     "data": {
      "image/png": "[encoded data removed]",
      "text/plain": [
       "<Figure size 576x720 with 1 Axes>"
      ]
     },
     "metadata": {
      "needs_background": "light"
     },
     "output_type": "display_data"
    }
   ],
   "source": [
    "\n",
    "cnt_tags = pd.DataFrame(my_dict.items(), columns = [\"tags\", \"count\"])\n",
    "cnt_tags.sort_values([\"count\"],  ascending=False, inplace=True)\n",
    "cnt_tags.reset_index(drop=True, inplace=True)\n",
    "\n",
    "plt.figure(figsize = (8,10))\n",
    "sns.barplot(x = 'count', y = 'tags', data = cnt_tags)\n",
    "plt.title('Frequency of tags', fontsize = 14)\n",
    "plt.xlabel('Count', fontsize = 12)\n",
    "plt.ylabel('Tags', fontsize = 12)\n",
    "plt.grid(1)\n",
    "plt.show()"
   ]
  }
 ],
 "metadata": {
  "kernelspec": {
   "display_name": "Python 3",
   "language": "python",
   "name": "python3"
  },
  "language_info": {
   "codemirror_mode": {
    "name": "ipython",
    "version": 3
   },
   "file_extension": ".py",
   "mimetype": "text/x-python",
   "name": "python",
   "nbconvert_exporter": "python",
   "pygments_lexer": "ipython3",
   "version": "3.7.4"
  }
 },
 "nbformat": 4,
 "nbformat_minor": 2
}
